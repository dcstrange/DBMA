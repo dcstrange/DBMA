{
 "cells": [
  {
   "cell_type": "code",
   "execution_count": 1,
   "metadata": {},
   "outputs": [
    {
     "name": "stdout",
     "output_type": "stream",
     "text": [
      "Collecting git+https://github.com/dcstrange/agency-swarm.git@dbOps_Agency\n",
      "  Cloning https://github.com/dcstrange/agency-swarm.git (to revision dbOps_Agency) to /tmp/pip-req-build-5dz7pf40\n",
      "  Running command git clone --filter=blob:none --quiet https://github.com/dcstrange/agency-swarm.git /tmp/pip-req-build-5dz7pf40\n",
      "  Running command git checkout -b dbOps_Agency --track origin/dbOps_Agency\n",
      "  Switched to a new branch 'dbOps_Agency'\n",
      "  Branch 'dbOps_Agency' set up to track remote branch 'dbOps_Agency' from 'origin'.\n",
      "  Resolved https://github.com/dcstrange/agency-swarm.git to commit 6459450d47a4cb5c112dd24d2b9409c0b9764cc9\n",
      "  Installing build dependencies ... \u001b[?25ldone\n",
      "\u001b[?25h  Getting requirements to build wheel ... \u001b[?25ldone\n",
      "\u001b[?25h  Preparing metadata (pyproject.toml) ... \u001b[?25ldone\n",
      "\u001b[?25hRequirement already satisfied: openai==1.3.0 in ./.venv/lib/python3.10/site-packages (from agency-swarm==0.1.0) (1.3.0)\n",
      "Requirement already satisfied: instructor==0.3.4 in ./.venv/lib/python3.10/site-packages (from agency-swarm==0.1.0) (0.3.4)\n",
      "Requirement already satisfied: deepdiff==6.7.1 in ./.venv/lib/python3.10/site-packages (from agency-swarm==0.1.0) (6.7.1)\n",
      "Requirement already satisfied: termcolor==2.3.0 in ./.venv/lib/python3.10/site-packages (from agency-swarm==0.1.0) (2.3.0)\n",
      "Requirement already satisfied: python-dotenv==1.0.0 in ./.venv/lib/python3.10/site-packages (from agency-swarm==0.1.0) (1.0.0)\n",
      "Requirement already satisfied: rich==13.7.0 in ./.venv/lib/python3.10/site-packages (from agency-swarm==0.1.0) (13.7.0)\n",
      "Requirement already satisfied: ordered-set<4.2.0,>=4.0.2 in ./.venv/lib/python3.10/site-packages (from deepdiff==6.7.1->agency-swarm==0.1.0) (4.1.0)\n",
      "Requirement already satisfied: docstring-parser<0.16,>=0.15 in ./.venv/lib/python3.10/site-packages (from instructor==0.3.4->agency-swarm==0.1.0) (0.15)\n",
      "Requirement already satisfied: pydantic<3.0.0,>=2.0.2 in ./.venv/lib/python3.10/site-packages (from instructor==0.3.4->agency-swarm==0.1.0) (2.5.2)\n",
      "Requirement already satisfied: typer<0.10.0,>=0.9.0 in ./.venv/lib/python3.10/site-packages (from instructor==0.3.4->agency-swarm==0.1.0) (0.9.0)\n",
      "Requirement already satisfied: anyio<4,>=3.5.0 in ./.venv/lib/python3.10/site-packages (from openai==1.3.0->agency-swarm==0.1.0) (3.7.1)\n",
      "Requirement already satisfied: distro<2,>=1.7.0 in ./.venv/lib/python3.10/site-packages (from openai==1.3.0->agency-swarm==0.1.0) (1.8.0)\n",
      "Requirement already satisfied: httpx<1,>=0.23.0 in ./.venv/lib/python3.10/site-packages (from openai==1.3.0->agency-swarm==0.1.0) (0.25.2)\n",
      "Requirement already satisfied: tqdm>4 in ./.venv/lib/python3.10/site-packages (from openai==1.3.0->agency-swarm==0.1.0) (4.66.1)\n",
      "Requirement already satisfied: typing-extensions<5,>=4.5 in ./.venv/lib/python3.10/site-packages (from openai==1.3.0->agency-swarm==0.1.0) (4.9.0)\n",
      "Requirement already satisfied: markdown-it-py>=2.2.0 in ./.venv/lib/python3.10/site-packages (from rich==13.7.0->agency-swarm==0.1.0) (3.0.0)\n",
      "Requirement already satisfied: pygments<3.0.0,>=2.13.0 in ./.venv/lib/python3.10/site-packages (from rich==13.7.0->agency-swarm==0.1.0) (2.17.2)\n",
      "Requirement already satisfied: idna>=2.8 in ./.venv/lib/python3.10/site-packages (from anyio<4,>=3.5.0->openai==1.3.0->agency-swarm==0.1.0) (3.6)\n",
      "Requirement already satisfied: sniffio>=1.1 in ./.venv/lib/python3.10/site-packages (from anyio<4,>=3.5.0->openai==1.3.0->agency-swarm==0.1.0) (1.3.0)\n",
      "Requirement already satisfied: exceptiongroup in ./.venv/lib/python3.10/site-packages (from anyio<4,>=3.5.0->openai==1.3.0->agency-swarm==0.1.0) (1.2.0)\n",
      "Requirement already satisfied: certifi in ./.venv/lib/python3.10/site-packages (from httpx<1,>=0.23.0->openai==1.3.0->agency-swarm==0.1.0) (2023.11.17)\n",
      "Requirement already satisfied: httpcore==1.* in ./.venv/lib/python3.10/site-packages (from httpx<1,>=0.23.0->openai==1.3.0->agency-swarm==0.1.0) (1.0.2)\n",
      "Requirement already satisfied: h11<0.15,>=0.13 in ./.venv/lib/python3.10/site-packages (from httpcore==1.*->httpx<1,>=0.23.0->openai==1.3.0->agency-swarm==0.1.0) (0.14.0)\n",
      "Requirement already satisfied: mdurl~=0.1 in ./.venv/lib/python3.10/site-packages (from markdown-it-py>=2.2.0->rich==13.7.0->agency-swarm==0.1.0) (0.1.2)\n",
      "Requirement already satisfied: annotated-types>=0.4.0 in ./.venv/lib/python3.10/site-packages (from pydantic<3.0.0,>=2.0.2->instructor==0.3.4->agency-swarm==0.1.0) (0.6.0)\n",
      "Requirement already satisfied: pydantic-core==2.14.5 in ./.venv/lib/python3.10/site-packages (from pydantic<3.0.0,>=2.0.2->instructor==0.3.4->agency-swarm==0.1.0) (2.14.5)\n",
      "Requirement already satisfied: click<9.0.0,>=7.1.1 in ./.venv/lib/python3.10/site-packages (from typer<0.10.0,>=0.9.0->instructor==0.3.4->agency-swarm==0.1.0) (8.1.7)\n",
      "Note: you may need to restart the kernel to use updated packages.\n"
     ]
    }
   ],
   "source": [
    "#%pip install git+https://github.com/VRSEN/agency-swarm.git\n",
    "%pip install --upgrade --no-cache-dir git+https://github.com/dcstrange/agency-swarm.git@dbOps_Agency"
   ]
  },
  {
   "cell_type": "code",
   "execution_count": 3,
   "metadata": {},
   "outputs": [
    {
     "name": "stdout",
     "output_type": "stream",
     "text": [
      "Name: openai\n",
      "Version: 1.3.0\n",
      "Summary: The official Python library for the openai API\n",
      "Home-page: \n",
      "Author: \n",
      "Author-email: OpenAI <support@openai.com>\n",
      "License: \n",
      "Location: /home/ubuntu/git/DBMA/.venv/lib/python3.10/site-packages\n",
      "Requires: anyio, distro, httpx, pydantic, tqdm, typing-extensions\n",
      "Required-by: agency-swarm, instructor\n",
      "Note: you may need to restart the kernel to use updated packages.\n"
     ]
    }
   ],
   "source": [
    "%pip show openai"
   ]
  },
  {
   "cell_type": "code",
   "execution_count": 6,
   "metadata": {},
   "outputs": [],
   "source": [
    "import os\n",
    "\n",
    "with open(\"./oai-config/OAI_API_KEY\") as f:\n",
    "    os.environ['OPENAI_API_KEY'] = f.read()"
   ]
  },
  {
   "cell_type": "code",
   "execution_count": 7,
   "metadata": {},
   "outputs": [],
   "source": [
    "from agency_swarm import set_openai_key\n",
    "set_openai_key( os.environ['OPENAI_API_KEY'])\n",
    "\n",
    "\n",
    "# from agency_swarm import set_openai_key\n",
    "# from getpass import getpass\n",
    "\n",
    "# set_openai_key(getpass(\"Please enter your openai key:\"))"
   ]
  },
  {
   "cell_type": "markdown",
   "metadata": {},
   "source": [
    "## Define Agent Roles"
   ]
  },
  {
   "cell_type": "code",
   "execution_count": null,
   "metadata": {},
   "outputs": [],
   "source": []
  },
  {
   "cell_type": "code",
   "execution_count": 9,
   "metadata": {},
   "outputs": [],
   "source": [
    "from agency_swarm import Agent\n",
    "\n",
    "ceo = Agent(name=\"CEO\",\n",
    "            description=\"Responsible for client communication, task planning and management.\",\n",
    "            instructions=\"You must converse with other agents to ensure complete task execution.\", # can be a file like ./instructions.md\n",
    "            files_folder=None,\n",
    "            tools=[])"
   ]
  },
  {
   "cell_type": "code",
   "execution_count": 10,
   "metadata": {},
   "outputs": [],
   "source": [
    "from pydantic import BaseModel"
   ]
  }
 ],
 "metadata": {
  "kernelspec": {
   "display_name": ".venv",
   "language": "python",
   "name": "python3"
  },
  "language_info": {
   "codemirror_mode": {
    "name": "ipython",
    "version": 3
   },
   "file_extension": ".py",
   "mimetype": "text/x-python",
   "name": "python",
   "nbconvert_exporter": "python",
   "pygments_lexer": "ipython3",
   "version": "3.10.12"
  }
 },
 "nbformat": 4,
 "nbformat_minor": 2
}
