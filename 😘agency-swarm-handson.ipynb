{
 "cells": [
  {
   "cell_type": "code",
   "execution_count": 1,
   "metadata": {},
   "outputs": [
    {
     "name": "stdout",
     "output_type": "stream",
     "text": [
      "Defaulting to user installation because normal site-packages is not writeable\n",
      "Collecting git+https://github.com/dcstrange/agency-swarm.git@dbOps_Agency\n",
      "  Cloning https://github.com/dcstrange/agency-swarm.git (to revision dbOps_Agency) to /tmp/pip-req-build-cb4ezpi6\n",
      "  Running command git clone --filter=blob:none --quiet https://github.com/dcstrange/agency-swarm.git /tmp/pip-req-build-cb4ezpi6\n",
      "  Running command git checkout -b dbOps_Agency --track origin/dbOps_Agency\n",
      "  Switched to a new branch 'dbOps_Agency'\n",
      "  Branch 'dbOps_Agency' set up to track remote branch 'dbOps_Agency' from 'origin'.\n",
      "  Resolved https://github.com/dcstrange/agency-swarm.git to commit 5e263fc97d4da303911cecacadc27e5e2b7004ae\n",
      "  Preparing metadata (setup.py) ... \u001b[?25ldone\n",
      "\u001b[?25hRequirement already satisfied: deepdiff==6.7.1 in /home/ubuntu/.local/lib/python3.10/site-packages (from agency-swarm==0.1.0) (6.7.1)\n",
      "Requirement already satisfied: instructor==0.3.4 in /home/ubuntu/.local/lib/python3.10/site-packages (from agency-swarm==0.1.0) (0.3.4)\n",
      "Requirement already satisfied: openai==1.3.0 in /home/ubuntu/.local/lib/python3.10/site-packages (from agency-swarm==0.1.0) (1.3.0)\n",
      "Requirement already satisfied: python-dotenv==1.0.0 in /home/ubuntu/.local/lib/python3.10/site-packages (from agency-swarm==0.1.0) (1.0.0)\n",
      "Requirement already satisfied: rich==13.7.0 in /home/ubuntu/.local/lib/python3.10/site-packages (from agency-swarm==0.1.0) (13.7.0)\n",
      "Requirement already satisfied: termcolor==2.3.0 in /home/ubuntu/.local/lib/python3.10/site-packages (from agency-swarm==0.1.0) (2.3.0)\n",
      "Requirement already satisfied: ordered-set<4.2.0,>=4.0.2 in /home/ubuntu/.local/lib/python3.10/site-packages (from deepdiff==6.7.1->agency-swarm==0.1.0) (4.1.0)\n",
      "Requirement already satisfied: docstring-parser<0.16,>=0.15 in /home/ubuntu/.local/lib/python3.10/site-packages (from instructor==0.3.4->agency-swarm==0.1.0) (0.15)\n",
      "Requirement already satisfied: typer<0.10.0,>=0.9.0 in /home/ubuntu/.local/lib/python3.10/site-packages (from instructor==0.3.4->agency-swarm==0.1.0) (0.9.0)\n",
      "Requirement already satisfied: pydantic<3.0.0,>=2.0.2 in /home/ubuntu/.local/lib/python3.10/site-packages (from instructor==0.3.4->agency-swarm==0.1.0) (2.5.2)\n",
      "Requirement already satisfied: anyio<4,>=3.5.0 in /home/ubuntu/.local/lib/python3.10/site-packages (from openai==1.3.0->agency-swarm==0.1.0) (3.7.1)\n",
      "Requirement already satisfied: tqdm>4 in /home/ubuntu/.local/lib/python3.10/site-packages (from openai==1.3.0->agency-swarm==0.1.0) (4.65.0)\n",
      "Requirement already satisfied: httpx<1,>=0.23.0 in /home/ubuntu/.local/lib/python3.10/site-packages (from openai==1.3.0->agency-swarm==0.1.0) (0.25.2)\n",
      "Requirement already satisfied: typing-extensions<5,>=4.5 in /home/ubuntu/.local/lib/python3.10/site-packages (from openai==1.3.0->agency-swarm==0.1.0) (4.8.0)\n",
      "Requirement already satisfied: distro<2,>=1.7.0 in /usr/lib/python3/dist-packages (from openai==1.3.0->agency-swarm==0.1.0) (1.7.0)\n",
      "Requirement already satisfied: pygments<3.0.0,>=2.13.0 in /home/ubuntu/.local/lib/python3.10/site-packages (from rich==13.7.0->agency-swarm==0.1.0) (2.17.2)\n",
      "Requirement already satisfied: markdown-it-py>=2.2.0 in /home/ubuntu/.local/lib/python3.10/site-packages (from rich==13.7.0->agency-swarm==0.1.0) (3.0.0)\n",
      "Requirement already satisfied: sniffio>=1.1 in /home/ubuntu/.local/lib/python3.10/site-packages (from anyio<4,>=3.5.0->openai==1.3.0->agency-swarm==0.1.0) (1.3.0)\n",
      "Requirement already satisfied: idna>=2.8 in /home/ubuntu/.local/lib/python3.10/site-packages (from anyio<4,>=3.5.0->openai==1.3.0->agency-swarm==0.1.0) (2.8)\n",
      "Requirement already satisfied: exceptiongroup in /home/ubuntu/.local/lib/python3.10/site-packages (from anyio<4,>=3.5.0->openai==1.3.0->agency-swarm==0.1.0) (1.2.0)\n",
      "Requirement already satisfied: certifi in /usr/lib/python3/dist-packages (from httpx<1,>=0.23.0->openai==1.3.0->agency-swarm==0.1.0) (2020.6.20)\n",
      "Requirement already satisfied: httpcore==1.* in /home/ubuntu/.local/lib/python3.10/site-packages (from httpx<1,>=0.23.0->openai==1.3.0->agency-swarm==0.1.0) (1.0.2)\n",
      "Requirement already satisfied: h11<0.15,>=0.13 in /home/ubuntu/.local/lib/python3.10/site-packages (from httpcore==1.*->httpx<1,>=0.23.0->openai==1.3.0->agency-swarm==0.1.0) (0.14.0)\n",
      "Requirement already satisfied: mdurl~=0.1 in /home/ubuntu/.local/lib/python3.10/site-packages (from markdown-it-py>=2.2.0->rich==13.7.0->agency-swarm==0.1.0) (0.1.2)\n",
      "Requirement already satisfied: pydantic-core==2.14.5 in /home/ubuntu/.local/lib/python3.10/site-packages (from pydantic<3.0.0,>=2.0.2->instructor==0.3.4->agency-swarm==0.1.0) (2.14.5)\n",
      "Requirement already satisfied: annotated-types>=0.4.0 in /home/ubuntu/.local/lib/python3.10/site-packages (from pydantic<3.0.0,>=2.0.2->instructor==0.3.4->agency-swarm==0.1.0) (0.6.0)\n",
      "Requirement already satisfied: click<9.0.0,>=7.1.1 in /usr/lib/python3/dist-packages (from typer<0.10.0,>=0.9.0->instructor==0.3.4->agency-swarm==0.1.0) (8.0.3)\n",
      "Note: you may need to restart the kernel to use updated packages.\n"
     ]
    }
   ],
   "source": [
    "#%pip install git+https://github.com/VRSEN/agency-swarm.git\n",
    "%pip install --upgrade --no-cache-dir git+https://github.com/dcstrange/agency-swarm.git@dbOps_Agency"
   ]
  },
  {
   "cell_type": "code",
   "execution_count": 2,
   "metadata": {},
   "outputs": [
    {
     "name": "stdout",
     "output_type": "stream",
     "text": [
      "Name: openai\n",
      "Version: 1.3.0\n",
      "Summary: The official Python library for the openai API\n",
      "Home-page: \n",
      "Author: \n",
      "Author-email: OpenAI <support@openai.com>\n",
      "License: \n",
      "Location: /home/ubuntu/.local/lib/python3.10/site-packages\n",
      "Requires: anyio, distro, httpx, pydantic, tqdm, typing-extensions\n",
      "Required-by: agency-swarm, instructor\n",
      "Note: you may need to restart the kernel to use updated packages.\n"
     ]
    }
   ],
   "source": [
    "%pip show openai"
   ]
  },
  {
   "cell_type": "code",
   "execution_count": 3,
   "metadata": {},
   "outputs": [
    {
     "ename": "FileNotFoundError",
     "evalue": "[Errno 2] No such file or directory: './oai-config/OAI_API_KEY'",
     "output_type": "error",
     "traceback": [
      "\u001b[0;31m---------------------------------------------------------------------------\u001b[0m",
      "\u001b[0;31mFileNotFoundError\u001b[0m                         Traceback (most recent call last)",
      "Cell \u001b[0;32mIn[3], line 3\u001b[0m\n\u001b[1;32m      1\u001b[0m \u001b[38;5;28;01mimport\u001b[39;00m \u001b[38;5;21;01mos\u001b[39;00m\n\u001b[0;32m----> 3\u001b[0m \u001b[38;5;28;01mwith\u001b[39;00m \u001b[38;5;28;43mopen\u001b[39;49m\u001b[43m(\u001b[49m\u001b[38;5;124;43m\"\u001b[39;49m\u001b[38;5;124;43m./oai-config/OAI_API_KEY\u001b[39;49m\u001b[38;5;124;43m\"\u001b[39;49m\u001b[43m)\u001b[49m \u001b[38;5;28;01mas\u001b[39;00m f:\n\u001b[1;32m      4\u001b[0m     os\u001b[38;5;241m.\u001b[39menviron[\u001b[38;5;124m'\u001b[39m\u001b[38;5;124mOPENAI_API_KEY\u001b[39m\u001b[38;5;124m'\u001b[39m] \u001b[38;5;241m=\u001b[39m f\u001b[38;5;241m.\u001b[39mread()\n",
      "File \u001b[0;32m~/.local/lib/python3.10/site-packages/IPython/core/interactiveshell.py:310\u001b[0m, in \u001b[0;36m_modified_open\u001b[0;34m(file, *args, **kwargs)\u001b[0m\n\u001b[1;32m    303\u001b[0m \u001b[38;5;28;01mif\u001b[39;00m file \u001b[38;5;129;01min\u001b[39;00m {\u001b[38;5;241m0\u001b[39m, \u001b[38;5;241m1\u001b[39m, \u001b[38;5;241m2\u001b[39m}:\n\u001b[1;32m    304\u001b[0m     \u001b[38;5;28;01mraise\u001b[39;00m \u001b[38;5;167;01mValueError\u001b[39;00m(\n\u001b[1;32m    305\u001b[0m         \u001b[38;5;124mf\u001b[39m\u001b[38;5;124m\"\u001b[39m\u001b[38;5;124mIPython won\u001b[39m\u001b[38;5;124m'\u001b[39m\u001b[38;5;124mt let you open fd=\u001b[39m\u001b[38;5;132;01m{\u001b[39;00mfile\u001b[38;5;132;01m}\u001b[39;00m\u001b[38;5;124m by default \u001b[39m\u001b[38;5;124m\"\u001b[39m\n\u001b[1;32m    306\u001b[0m         \u001b[38;5;124m\"\u001b[39m\u001b[38;5;124mas it is likely to crash IPython. If you know what you are doing, \u001b[39m\u001b[38;5;124m\"\u001b[39m\n\u001b[1;32m    307\u001b[0m         \u001b[38;5;124m\"\u001b[39m\u001b[38;5;124myou can use builtins\u001b[39m\u001b[38;5;124m'\u001b[39m\u001b[38;5;124m open.\u001b[39m\u001b[38;5;124m\"\u001b[39m\n\u001b[1;32m    308\u001b[0m     )\n\u001b[0;32m--> 310\u001b[0m \u001b[38;5;28;01mreturn\u001b[39;00m \u001b[43mio_open\u001b[49m\u001b[43m(\u001b[49m\u001b[43mfile\u001b[49m\u001b[43m,\u001b[49m\u001b[43m \u001b[49m\u001b[38;5;241;43m*\u001b[39;49m\u001b[43margs\u001b[49m\u001b[43m,\u001b[49m\u001b[43m \u001b[49m\u001b[38;5;241;43m*\u001b[39;49m\u001b[38;5;241;43m*\u001b[39;49m\u001b[43mkwargs\u001b[49m\u001b[43m)\u001b[49m\n",
      "\u001b[0;31mFileNotFoundError\u001b[0m: [Errno 2] No such file or directory: './oai-config/OAI_API_KEY'"
     ]
    }
   ],
   "source": [
    "import os\n",
    "\n",
    "with open(\"./oai-config/OAI_API_KEY\") as f:\n",
    "    os.environ['OPENAI_API_KEY'] = f.read()"
   ]
  },
  {
   "cell_type": "code",
   "execution_count": 7,
   "metadata": {},
   "outputs": [],
   "source": [
    "from agency_swarm import set_openai_key\n",
    "set_openai_key( os.environ['OPENAI_API_KEY'])\n",
    "\n",
    "\n",
    "# from agency_swarm import set_openai_key\n",
    "# from getpass import getpass\n",
    "\n",
    "# set_openai_key(getpass(\"Please enter your openai key:\"))"
   ]
  },
  {
   "cell_type": "markdown",
   "metadata": {},
   "source": [
    "## Define Agent Roles"
   ]
  },
  {
   "cell_type": "code",
   "execution_count": null,
   "metadata": {},
   "outputs": [],
   "source": []
  },
  {
   "cell_type": "code",
   "execution_count": 9,
   "metadata": {},
   "outputs": [],
   "source": [
    "from agency_swarm import Agent\n",
    "\n",
    "ceo = Agent(name=\"CEO\",\n",
    "            description=\"Responsible for client communication, task planning and management.\",\n",
    "            instructions=\"You must converse with other agents to ensure complete task execution.\", # can be a file like ./instructions.md\n",
    "            files_folder=None,\n",
    "            tools=[])"
   ]
  },
  {
   "cell_type": "code",
   "execution_count": 10,
   "metadata": {},
   "outputs": [],
   "source": [
    "from pydantic import BaseModel"
   ]
  }
 ],
 "metadata": {
  "kernelspec": {
   "display_name": ".venv",
   "language": "python",
   "name": "python3"
  },
  "language_info": {
   "codemirror_mode": {
    "name": "ipython",
    "version": 3
   },
   "file_extension": ".py",
   "mimetype": "text/x-python",
   "name": "python",
   "nbconvert_exporter": "python",
   "pygments_lexer": "ipython3",
   "version": "3.10.12"
  }
 },
 "nbformat": 4,
 "nbformat_minor": 2
}
