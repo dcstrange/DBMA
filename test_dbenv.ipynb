{
 "cells": [
  {
   "cell_type": "code",
   "execution_count": null,
   "metadata": {},
   "outputs": [],
   "source": [
    "import requests\n",
    "import time\n",
    "import uuid\n",
    "\n",
    "server_url = \"http://127.0.0.1:5000\"\n",
    "\n",
    "def send_task(task_content):\n",
    "    task_id = str(uuid.uuid4())\n",
    "    response = requests.post(f\"{server_url}/task\", json={\"task_id\": task_id, \"task_content\": task_content})\n",
    "    if response.status_code == 200:\n",
    "        print(f\"Text sent successfully, check the {server_url}/task.\")\n",
    "        return task_id\n",
    "    else:\n",
    "        print(f\"Failed to send text:{response.status_code}\")\n",
    "        return None\n",
    "\n",
    "def get_reply(task_id):\n",
    "    while True:\n",
    "        response = requests.get(f\"{server_url}/result\", params={\"task_id\": task_id})\n",
    "        if response.status_code == 200:\n",
    "            reply = response.json()['response']\n",
    "            if reply != 'No reply yet':\n",
    "                print(f\"Reply: {reply}\")\n",
    "                break\n",
    "        time.sleep(5)\n",
    "    return response\n",
    "\n",
    "\n",
    "def Assign_DB_Task(task_content):\n",
    "    task_id = send_task(task_content)\n",
    "    if task_id:\n",
    "        response = get_reply(task_id)\n",
    "        print(response.json())\n",
    "\n",
    "# Example usage\n",
    "Example = \"\"\"I have a specific task interacting with a database environment that involves executing a SELECT query within a relational database. The database consists of two tables: Employees, which includes columns for EmployeeID (integer), Name (varchar), and DepartmentID (integer); and Departments, containing DepartmentID (integer) and DepartmentName (varchar). The task is to retrieve the names of employees who work in the 'IT' department. This requires a JOIN operation between the Employees and Departments tables on the DepartmentID column, along with a WHERE clause to filter for 'IT' in the DepartmentName column. The expected outcome is a list of names of employees in the IT department. A key aspect of this task is optimizing the query for performance due to the large number of rows in both tables.\"\"\"\n",
    "\n",
    "Assign_DB_Task(Example)\n"
   ]
  }
 ],
 "metadata": {
  "kernelspec": {
   "display_name": ".venv",
   "language": "python",
   "name": "python3"
  },
  "language_info": {
   "name": "python",
   "version": "3.10.12"
  }
 },
 "nbformat": 4,
 "nbformat_minor": 2
}
